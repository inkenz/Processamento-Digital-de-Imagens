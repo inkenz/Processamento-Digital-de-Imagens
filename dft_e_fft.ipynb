{
  "cells": [
    {
      "cell_type": "markdown",
      "metadata": {
        "id": "DjEZFPdERhse"
      },
      "source": [
        "# DFT 2D e FFT 2D\n",
        "\n",
        "## Índice\n",
        "\n",
        "1. Introdução\n",
        "2. Importar imagem e bibliotecas\n",
        "3. DFT 2D, FFT 2D e Comparação\n",
        "\n",
        "---\n",
        "\n",
        "## 1. Introdução\n",
        "\n",
        "- Feito por: Kenzo Inanami de Faria <br>\n",
        "- Objetivo:\n",
        "  - Implemente os algoritmos DFT 2D e FFT 2D para encontrar o espectro de\n",
        "    Fourier de imagens. Teste as funções na imagem a seguir e compare os tempos de execução: \\* https://links.uwaterloo.ca/Repository/TIF/camera.tif\n",
        "- Fontes:\n",
        "  - O algoritmo da DFT 2D foi adaptado de: https://dsp.stackexchange.com/questions/66537/2d-dft-in-image-processing-in-python\n",
        "  - O algoritmo da FFT 2D foi adaptado de: https://jakevdp.github.io/blog/2013/08/28/understanding-the-fft/\n"
      ]
    },
    {
      "cell_type": "markdown",
      "metadata": {
        "id": "ZevYp8iUTXqG"
      },
      "source": [
        "## 2. Importar imagem e bibliotecas\n"
      ]
    },
    {
      "cell_type": "code",
      "execution_count": 4,
      "metadata": {
        "id": "zZkHEDTSa-rx"
      },
      "outputs": [],
      "source": [
        "import numpy as np\n",
        "import cv2\n",
        "import time\n",
        "import sys\n",
        "import cmath"
      ]
    },
    {
      "cell_type": "code",
      "execution_count": 5,
      "metadata": {
        "colab": {
          "base_uri": "https://localhost:8080/",
          "height": 73
        },
        "id": "Vy1CepOqQgXP",
        "outputId": "2da1b59e-e2c8-4a50-a2a2-9bf86e5d3a92"
      },
      "outputs": [],
      "source": [
        "# Carregar a imagem usando OpenCV\n",
        "image = cv2.imread(\"Imagens/camera.tif\", cv2.IMREAD_GRAYSCALE)\n",
        "if image is None:\n",
        "  print(\"Imagem não foi lida, confira se o nome e extensão estão corretos\")\n",
        "  sys.exit(0)"
      ]
    },
    {
      "cell_type": "markdown",
      "metadata": {
        "id": "E9muDffoTmH4"
      },
      "source": [
        "## DFT 2D, FFT 2D e Comparação\n"
      ]
    },
    {
      "cell_type": "code",
      "execution_count": null,
      "metadata": {
        "colab": {
          "base_uri": "https://localhost:8080/"
        },
        "id": "ka08nmLxSocc",
        "outputId": "a7f9ab90-911b-481b-f708-2e596bc42ec5"
      },
      "outputs": [
        {
          "name": "stdout",
          "output_type": "stream",
          "text": [
            "Tempo de execução da DFT 2D: 8760.3017 segundos\n"
          ]
        }
      ],
      "source": [
        "def DFT2D(image):\n",
        "    data = np.asarray(image)\n",
        "    M, N = image.shape\n",
        "    dft2d = np.zeros((M,N),dtype=complex)\n",
        "    for k in range(M):\n",
        "        for l in range(N):\n",
        "            sum_matrix = 0.0\n",
        "            for m in range(M):\n",
        "                for n in range(N):\n",
        "                    e = cmath.exp(- 2j * np.pi * ((k * m) / M + (l * n) / N))\n",
        "                    sum_matrix +=  data[m,n] * e\n",
        "            dft2d[k,l] = sum_matrix\n",
        "    return dft2d\n",
        "\n",
        "\n",
        "\n",
        "# Medir o tempo de execução da DFT 2D\n",
        "start_time = time.time()\n",
        "dft_result = DFT2D(image)\n",
        "dft_time = time.time() - start_time\n",
        "\n",
        "\n",
        "print(f\"Tempo de execução da DFT 2D: {dft_time:.4f} segundos\")"
      ]
    },
    {
      "cell_type": "code",
      "execution_count": 5,
      "metadata": {
        "colab": {
          "base_uri": "https://localhost:8080/"
        },
        "id": "wDuBogZyszBU",
        "outputId": "3a04dc82-e56c-4425-da1b-2e8272c060dd"
      },
      "outputs": [
        {
          "name": "stdout",
          "output_type": "stream",
          "text": [
            "Tempo de execução da FFT 2D: 0.3491 segundos\n"
          ]
        },
        {
          "name": "stderr",
          "output_type": "stream",
          "text": [
            "<ipython-input-5-115a012ff843>:10: ComplexWarning: Casting complex values to real discards the imaginary part\n",
            "  x = np.asarray(x, dtype=float)\n"
          ]
        }
      ],
      "source": [
        "def DFT_slow(x):\n",
        "    x = np.asarray(x, dtype=float)\n",
        "    N = x.shape[0]\n",
        "    n = np.arange(N)\n",
        "    k = n.reshape((N, 1))\n",
        "    M = np.exp(-2j * np.pi * k * n / N)\n",
        "    return np.dot(M, x)\n",
        "\n",
        "def FFT(x):\n",
        "    x = np.asarray(x, dtype=float)\n",
        "    N = x.shape[0]\n",
        "\n",
        "    if N <= 32:\n",
        "        return DFT_slow(x)\n",
        "    else:\n",
        "        X_even = FFT(x[::2])\n",
        "        X_odd = FFT(x[1::2])\n",
        "        factor = np.exp(-2j * np.pi * np.arange(N) / N)\n",
        "        return np.concatenate([X_even + factor[:N // 2] * X_odd,\n",
        "                               X_even + factor[N // 2:] * X_odd])\n",
        "\n",
        "\n",
        "def fft_2d(image):\n",
        "    # Feita a FFT 1D em todas as linhas e, depois, colunas\n",
        "    rows, cols = image.shape\n",
        "    fft_result = np.zeros((rows, cols), dtype=np.complex128)\n",
        "    for i in range(rows):\n",
        "      fft_result[i] = FFT(image[i])\n",
        "    for j in range(cols):\n",
        "      fft_result[:,j] = FFT(fft_result[:,j])\n",
        "\n",
        "    return fft_result\n",
        "\n",
        "\n",
        "# Medição do tempo\n",
        "start_time = time.time()\n",
        "fft_result = fft_2d(image)\n",
        "fft_time = time.time() - start_time\n",
        "\n",
        "print(f\"Tempo de execução da FFT 2D: {fft_time:.4f} segundos\")"
      ]
    },
    {
      "cell_type": "markdown",
      "metadata": {
        "id": "v5wMaTw7WlcU"
      },
      "source": [
        "Em execução prévia o algoritmo DFT 2D executou em aproximadamente 8760.3017 segundos e o FFT obteve um tempo de execução de 0.3491.\n"
      ]
    },
    {
      "cell_type": "code",
      "execution_count": 9,
      "metadata": {
        "colab": {
          "base_uri": "https://localhost:8080/"
        },
        "id": "CdA__YuBav5U",
        "outputId": "37e6965a-26a6-4e33-84d2-eb72d1fb251b"
      },
      "outputs": [
        {
          "name": "stdout",
          "output_type": "stream",
          "text": [
            "A execução do algoritmo FFT 2D foi aproximadamente  25093.0  vezes mais rápida que DFT 2D\n"
          ]
        }
      ],
      "source": [
        "# Comparar os resultados (note que os valores podem ser complexos)\n",
        "print(\"O tempo de execução do algoritmo FFT 2D foi aproximadamente \", 8760.3017//0.3491, \" vezes menor que o tempo da DFT 2D\")"
      ]
    }
  ],
  "metadata": {
    "colab": {
      "provenance": []
    },
    "kernelspec": {
      "display_name": "Python 3",
      "name": "python3"
    },
    "language_info": {
      "codemirror_mode": {
        "name": "ipython",
        "version": 3
      },
      "file_extension": ".py",
      "mimetype": "text/x-python",
      "name": "python",
      "nbconvert_exporter": "python",
      "pygments_lexer": "ipython3",
      "version": "3.11.7"
    }
  },
  "nbformat": 4,
  "nbformat_minor": 0
}
